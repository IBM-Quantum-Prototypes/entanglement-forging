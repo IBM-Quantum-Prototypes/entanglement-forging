{
 "cells": [
  {
   "cell_type": "markdown",
   "metadata": {},
   "source": [
    "# Tutorial 2: Entanglement Forged VQE for the $H_2O$ molecule\n",
    "\n",
    "In this tutorial, we apply Entanglement Forged VQE to a $H_2O$ molecule. We follow the same format as Tutorial 1 for the $H_2$ molecule, but we also simplify the problem by freezing (removing) some orbitals.\n",
    "\n",
    "**What new here?**\n",
    "- Freezing orbitals by specifying the `orbitals_to_reduce` parameter.\n",
    "- Defing the ansatz using parametrized gates.\n",
    "- Specifying `spsa_c0` in `EntanglementForgedConfig` to help with conversion.\n",
    "\n",
    "\n",
    "For comparison, you may wish to review how the ansatz was defined as a `TwoLocal` object, for the case of the $H_2$ molecule, in Tutorial 1."
   ]
  },
  {
   "cell_type": "markdown",
   "metadata": {},
   "source": [
    "### Importing the relevant modules"
   ]
  },
  {
   "cell_type": "code",
   "execution_count": 1,
   "metadata": {},
   "outputs": [],
   "source": [
    "import warnings\n",
    "\n",
    "warnings.filterwarnings(\"ignore\")"
   ]
  },
  {
   "cell_type": "code",
   "execution_count": 2,
   "metadata": {},
   "outputs": [],
   "source": [
    "import numpy as np\n",
    "from matplotlib import pyplot as plt\n",
    "\n",
    "from qiskit_nature.drivers import Molecule\n",
    "from qiskit_nature.drivers.second_quantization import PySCFDriver\n",
    "from qiskit_nature.problems.second_quantization import ElectronicStructureProblem\n",
    "from qiskit_nature.mappers.second_quantization import JordanWignerMapper\n",
    "from qiskit_nature.converters.second_quantization import QubitConverter\n",
    "from qiskit import Aer\n",
    "\n",
    "import sys\n",
    "\n",
    "sys.path.append(\"../../\")\n",
    "from entanglement_forging import EntanglementForgedGroundStateSolver\n",
    "from entanglement_forging import EntanglementForgedConfig"
   ]
  },
  {
   "cell_type": "markdown",
   "metadata": {},
   "source": [
    "## Setting up the problem (the chemistry)\n",
    "\n",
    "We start by setting up the chemical problem. Here, we are considering an H2O molecule. We will put the O atom at the origin and specify the positions of the two H atoms by giving their distance from the origin (radius) and the angle between them. "
   ]
  },
  {
   "cell_type": "code",
   "execution_count": 3,
   "metadata": {},
   "outputs": [],
   "source": [
    "radius_1 = 0.958  # position for the first H atom\n",
    "radius_2 = 0.958  # position for the second H atom\n",
    "thetas_in_deg = 104.478  # bond angles.\n",
    "\n",
    "H1_x = radius_1\n",
    "H2_x = radius_2 * np.cos(np.pi / 180 * thetas_in_deg)\n",
    "H2_y = radius_2 * np.sin(np.pi / 180 * thetas_in_deg)\n",
    "\n",
    "molecule = Molecule(\n",
    "    geometry=[\n",
    "        [\"O\", [0.0, 0.0, 0.0]],\n",
    "        [\"H\", [H1_x, 0.0, 0.0]],\n",
    "        [\"H\", [H2_x, H2_y, 0.0]],\n",
    "    ],\n",
    "    charge=0,\n",
    "    multiplicity=1,\n",
    ")\n",
    "driver = PySCFDriver.from_molecule(molecule=molecule, basis=\"sto6g\")\n",
    "problem = ElectronicStructureProblem(driver)\n",
    "\n",
    "converter = QubitConverter(JordanWignerMapper())"
   ]
  },
  {
   "cell_type": "markdown",
   "metadata": {},
   "source": [
    "### Classical Result\n",
    "For comparison, we also compute the classical result. "
   ]
  },
  {
   "cell_type": "code",
   "execution_count": 4,
   "metadata": {},
   "outputs": [
    {
     "name": "stdout",
     "output_type": "stream",
     "text": [
      "Classical energy =  -75.72890671869246\n"
     ]
    }
   ],
   "source": [
    "from qiskit_nature.algorithms.ground_state_solvers import (\n",
    "    GroundStateEigensolver,\n",
    "    NumPyMinimumEigensolverFactory,\n",
    ")\n",
    "\n",
    "solver = GroundStateEigensolver(\n",
    "    converter, NumPyMinimumEigensolverFactory(use_default_filter_criterion=False)\n",
    ")\n",
    "\n",
    "result = solver.solve(problem)\n",
    "\n",
    "print(\"Classical energy = \", result.total_energies[0])"
   ]
  },
  {
   "cell_type": "markdown",
   "metadata": {},
   "source": [
    "## Simplifying the problem (freezing orbitals)"
   ]
  },
  {
   "cell_type": "markdown",
   "metadata": {},
   "source": [
    "Freezing some orbitals can reduce the execultion time (for discussion of scaling and orbital freezing, refer to the Explanatory Material in the documentation). For water, we freeze orbitals 0 and 3."
   ]
  },
  {
   "cell_type": "code",
   "execution_count": 5,
   "metadata": {},
   "outputs": [],
   "source": [
    "orbitals_to_reduce = [0, 3]"
   ]
  },
  {
   "cell_type": "markdown",
   "metadata": {},
   "source": [
    "## Preparing the bitstrings"
   ]
  },
  {
   "cell_type": "markdown",
   "metadata": {},
   "source": [
    "For a discussion on picking the bitstrings, refer to the Exploratory Material. "
   ]
  },
  {
   "cell_type": "code",
   "execution_count": 6,
   "metadata": {},
   "outputs": [
    {
     "name": "stdout",
     "output_type": "stream",
     "text": [
      "Bitstrings: [[1, 1, 1, 1, 1, 0, 0], [1, 0, 1, 1, 1, 0, 1], [1, 0, 1, 1, 1, 1, 0]]\n",
      "Bitstrings after orbital reduction: [[1, 1, 1, 0, 0], [0, 1, 1, 0, 1], [0, 1, 1, 1, 0]]\n"
     ]
    }
   ],
   "source": [
    "from entanglement_forging import reduce_bitstrings\n",
    "\n",
    "bitstrings = [[1, 1, 1, 1, 1, 0, 0], [1, 0, 1, 1, 1, 0, 1], [1, 0, 1, 1, 1, 1, 0]]\n",
    "reduced_bitstrings = reduce_bitstrings(bitstrings, orbitals_to_reduce)\n",
    "\n",
    "print(f\"Bitstrings: {bitstrings}\")\n",
    "print(f\"Bitstrings after orbital reduction: {reduced_bitstrings}\")"
   ]
  },
  {
   "cell_type": "markdown",
   "metadata": {},
   "source": [
    "## Preparing the ansatz\n",
    "Here, we construct the variational form that was used in (https://arxiv.org/abs/2104.10220). The variational form is constructed from several Hop Gates, which we define first. "
   ]
  },
  {
   "cell_type": "code",
   "execution_count": 7,
   "metadata": {},
   "outputs": [
    {
     "data": {
      "text/html": [
       "<pre style=\"word-wrap: normal;white-space: pre;background: #fff0;line-height: 1.1;font-family: &quot;Courier New&quot;,Courier,monospace\">     ┌───┐┌───┐     ┌────────────┐     ┌───┐\n",
       "q_0: ┤ H ├┤ X ├──■──┤ Ry(-1.0*θ) ├──■──┤ H ├\n",
       "     └───┘└─┬─┘┌─┴─┐├────────────┤┌─┴─┐└───┘\n",
       "q_1: ───────■──┤ X ├┤ Ry(-1.0*θ) ├┤ X ├─────\n",
       "               └───┘└────────────┘└───┘     </pre>"
      ],
      "text/plain": [
       "     ┌───┐┌───┐     ┌────────────┐     ┌───┐\n",
       "q_0: ┤ H ├┤ X ├──■──┤ Ry(-1.0*θ) ├──■──┤ H ├\n",
       "     └───┘└─┬─┘┌─┴─┐├────────────┤┌─┴─┐└───┘\n",
       "q_1: ───────■──┤ X ├┤ Ry(-1.0*θ) ├┤ X ├─────\n",
       "               └───┘└────────────┘└───┘     "
      ]
     },
     "execution_count": 7,
     "metadata": {},
     "output_type": "execute_result"
    }
   ],
   "source": [
    "from qiskit.circuit import Parameter, QuantumCircuit\n",
    "\n",
    "theta = Parameter(\"θ\")\n",
    "\n",
    "hop_gate = QuantumCircuit(2, name=\"Hop gate\")\n",
    "hop_gate.h(0)\n",
    "hop_gate.cx(1, 0)\n",
    "hop_gate.cx(0, 1)\n",
    "hop_gate.ry(-theta, 0)\n",
    "hop_gate.ry(-theta, 1)\n",
    "hop_gate.cx(0, 1)\n",
    "hop_gate.h(0)\n",
    "\n",
    "hop_gate.draw()"
   ]
  },
  {
   "cell_type": "code",
   "execution_count": 8,
   "metadata": {},
   "outputs": [
    {
     "data": {
      "text/html": [
       "<pre style=\"word-wrap: normal;white-space: pre;background: #fff0;line-height: 1.1;font-family: &quot;Courier New&quot;,Courier,monospace\">     ┌───────────────┐                ┌───────────────┐\n",
       "q_0: ┤0              ├────────────────┤0              ├\n",
       "     │  Hop gate(θ1) │┌──────────────┐│               │\n",
       "q_1: ┤1              ├┤0             ├┤  Hop gate(θ3) ├\n",
       "     └───────────────┘│              ││               │\n",
       "q_2: ─────────────────┤              ├┤1              ├\n",
       "     ┌───────────────┐│  Hop gate(0) │├───────────────┤\n",
       "q_3: ┤0              ├┤              ├┤0              ├\n",
       "     │  Hop gate(θ2) ││              ││  Hop gate(θ4) │\n",
       "q_4: ┤1              ├┤1             ├┤1              ├\n",
       "     └───────────────┘└──────────────┘└───────────────┘</pre>"
      ],
      "text/plain": [
       "     ┌───────────────┐                ┌───────────────┐\n",
       "q_0: ┤0              ├────────────────┤0              ├\n",
       "     │  Hop gate(θ1) │┌──────────────┐│               │\n",
       "q_1: ┤1              ├┤0             ├┤  Hop gate(θ3) ├\n",
       "     └───────────────┘│              ││               │\n",
       "q_2: ─────────────────┤              ├┤1              ├\n",
       "     ┌───────────────┐│  Hop gate(0) │├───────────────┤\n",
       "q_3: ┤0              ├┤              ├┤0              ├\n",
       "     │  Hop gate(θ2) ││              ││  Hop gate(θ4) │\n",
       "q_4: ┤1              ├┤1             ├┤1              ├\n",
       "     └───────────────┘└──────────────┘└───────────────┘"
      ]
     },
     "execution_count": 8,
     "metadata": {},
     "output_type": "execute_result"
    }
   ],
   "source": [
    "theta_1, theta_2, theta_3, theta_4 = (\n",
    "    Parameter(\"θ1\"),\n",
    "    Parameter(\"θ2\"),\n",
    "    Parameter(\"θ3\"),\n",
    "    Parameter(\"θ4\"),\n",
    ")\n",
    "\n",
    "ansatz = QuantumCircuit(5)\n",
    "ansatz.append(hop_gate.to_gate({theta: theta_1}), [0, 1])\n",
    "ansatz.append(hop_gate.to_gate({theta: theta_2}), [3, 4])\n",
    "ansatz.append(hop_gate.to_gate({theta: 0}), [1, 4])\n",
    "ansatz.append(hop_gate.to_gate({theta: theta_3}), [0, 2])\n",
    "ansatz.append(hop_gate.to_gate({theta: theta_4}), [3, 4])\n",
    "\n",
    "ansatz.draw(\"text\", justify=\"right\", fold=-1)"
   ]
  },
  {
   "cell_type": "markdown",
   "metadata": {},
   "source": [
    "## Running the Forged VQE algorithm"
   ]
  },
  {
   "cell_type": "markdown",
   "metadata": {},
   "source": [
    "### Statevector simulator\n",
    "\n",
    "We first create an object that contains all the configuration settings, such as the backend, as well as other execution settings."
   ]
  },
  {
   "cell_type": "code",
   "execution_count": 9,
   "metadata": {},
   "outputs": [],
   "source": [
    "from entanglement_forging import Log\n",
    "\n",
    "Log.VERBOSE = False"
   ]
  },
  {
   "cell_type": "code",
   "execution_count": 10,
   "metadata": {
    "scrolled": true
   },
   "outputs": [],
   "source": [
    "backend = Aer.get_backend(\"statevector_simulator\")\n",
    "\n",
    "config = EntanglementForgedConfig(\n",
    "    backend=backend, maxiter=350, spsa_c0=20 * np.pi, initial_params=[0, 0, 0, 0]\n",
    ")"
   ]
  },
  {
   "cell_type": "markdown",
   "metadata": {},
   "source": [
    "We are now ready to run the calculation and print the results."
   ]
  },
  {
   "cell_type": "code",
   "execution_count": 11,
   "metadata": {
    "scrolled": true
   },
   "outputs": [
    {
     "data": {
      "text/plain": [
       "Ground state energy (Hartree): -75.70487920958833\n",
       "Schmidt values: [-0.99355654  0.09998218  0.05337577]\n",
       "Optimizer parameters: [-1.06503717 -0.74395818 -0.01527152  0.78056925]"
      ]
     },
     "execution_count": 11,
     "metadata": {},
     "output_type": "execute_result"
    }
   ],
   "source": [
    "calc = EntanglementForgedGroundStateSolver(\n",
    "    qubit_converter=converter,\n",
    "    ansatz=ansatz,\n",
    "    bitstrings_u=reduced_bitstrings,\n",
    "    config=config,\n",
    "    orbitals_to_reduce=orbitals_to_reduce,\n",
    ")\n",
    "res = calc.solve(problem)\n",
    "\n",
    "res"
   ]
  },
  {
   "cell_type": "code",
   "execution_count": 12,
   "metadata": {},
   "outputs": [
    {
     "name": "stdout",
     "output_type": "stream",
     "text": [
      "Energies (from only one paramset in each iteration):\n"
     ]
    },
    {
     "data": {
      "image/png": "[encoded data removed]",
      "text/plain": [
       "<Figure size 432x288 with 1 Axes>"
      ]
     },
     "metadata": {
      "needs_background": "light"
     },
     "output_type": "display_data"
    },
    {
     "name": "stdout",
     "output_type": "stream",
     "text": [
      "Schmidts (from only one paramset in each iteration):\n"
     ]
    },
    {
     "data": {
      "image/png": "[encoded data removed]",
      "text/plain": [
       "<Figure size 432x288 with 1 Axes>"
      ]
     },
     "metadata": {
      "needs_background": "light"
     },
     "output_type": "display_data"
    },
    {
     "name": "stdout",
     "output_type": "stream",
     "text": [
      "Parameters (from only one paramset in each iteration):\n"
     ]
    },
    {
     "data": {
      "image/png": "[encoded data removed]",
      "text/plain": [
       "<Figure size 432x288 with 1 Axes>"
      ]
     },
     "metadata": {
      "needs_background": "light"
     },
     "output_type": "display_data"
    }
   ],
   "source": [
    "print(\"Energies (from only one paramset in each iteration):\")\n",
    "plt.plot([e[0] for e in res.get_energies_history()])\n",
    "plt.show()\n",
    "print(\"Schmidts (from only one paramset in each iteration):\")\n",
    "plt.plot([s[0] for s in res.get_schmidts_history()])\n",
    "plt.show()\n",
    "print(\"Parameters (from only one paramset in each iteration):\")\n",
    "plt.plot([p[0] for p in res.get_parameters_history()])\n",
    "plt.show()"
   ]
  },
  {
   "cell_type": "code",
   "execution_count": 13,
   "metadata": {},
   "outputs": [
    {
     "data": {
      "text/html": [
       "<h3>Version Information</h3><table><tr><th>Qiskit Software</th><th>Version</th></tr><tr><td><code>qiskit-terra</code></td><td>0.20.1</td></tr><tr><td><code>qiskit-aer</code></td><td>0.10.4</td></tr><tr><td><code>qiskit-ignis</code></td><td>0.7.0</td></tr><tr><td><code>qiskit-ibmq-provider</code></td><td>0.19.1</td></tr><tr><td><code>qiskit</code></td><td>0.36.1</td></tr><tr><td><code>qiskit-nature</code></td><td>0.4.1</td></tr><tr><td><code>qiskit-machine-learning</code></td><td>0.4.0</td></tr><tr><th>System information</th></tr><tr><td>Python version</td><td>3.9.7</td></tr><tr><td>Python compiler</td><td>Clang 10.0.0 </td></tr><tr><td>Python build</td><td>default, Sep 16 2021 08:50:36</td></tr><tr><td>OS</td><td>Darwin</td></tr><tr><td>CPUs</td><td>8</td></tr><tr><td>Memory (Gb)</td><td>32.0</td></tr><tr><td colspan='2'>Wed Jun 29 10:44:06 2022 CDT</td></tr></table>"
      ],
      "text/plain": [
       "<IPython.core.display.HTML object>"
      ]
     },
     "metadata": {},
     "output_type": "display_data"
    },
    {
     "data": {
      "text/html": [
       "<div style='width: 100%; background-color:#d5d9e0;padding-left: 10px; padding-bottom: 10px; padding-right: 10px; padding-top: 5px'><h3>This code is a part of Qiskit</h3><p>&copy; Copyright IBM 2017, 2022.</p><p>This code is licensed under the Apache License, Version 2.0. You may<br>obtain a copy of this license in the LICENSE.txt file in the root directory<br> of this source tree or at http://www.apache.org/licenses/LICENSE-2.0.<p>Any modifications or derivative works of this code must retain this<br>copyright notice, and modified files need to carry a notice indicating<br>that they have been altered from the originals.</p></div>"
      ],
      "text/plain": [
       "<IPython.core.display.HTML object>"
      ]
     },
     "metadata": {},
     "output_type": "display_data"
    }
   ],
   "source": [
    "import qiskit.tools.jupyter\n",
    "\n",
    "%qiskit_version_table\n",
    "%qiskit_copyright"
   ]
  }
 ],
 "metadata": {
  "execution": {
   "allow_errors": true,
   "timeout": 400
  },
  "interpreter": {
   "hash": "9b3c1d98935c82026151569d78e6e25d4dce670394faf72f7c6352740e10a738"
  },
  "kernelspec": {
   "display_name": "Python 3 (ipykernel)",
   "language": "python",
   "name": "python3"
  },
  "language_info": {
   "codemirror_mode": {
    "name": "ipython",
    "version": 3
   },
   "file_extension": ".py",
   "mimetype": "text/x-python",
   "name": "python",
   "nbconvert_exporter": "python",
   "pygments_lexer": "ipython3",
   "version": "3.9.7"
  }
 },
 "nbformat": 4,
 "nbformat_minor": 4
}
