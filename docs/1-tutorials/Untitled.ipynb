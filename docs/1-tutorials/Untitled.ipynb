{
 "cells": [
  {
   "cell_type": "code",
   "execution_count": 1,
   "id": "bdd6fcaa",
   "metadata": {},
   "outputs": [
    {
     "name": "stdout",
     "output_type": "stream",
     "text": [
      "Ground state energy: -1.1203690221324343.\n"
     ]
    }
   ],
   "source": [
    "import numpy as np\n",
    "\n",
    "from qiskit import Aer\n",
    "from qiskit.circuit.library import TwoLocal\n",
    "from qiskit_nature.converters.second_quantization import QubitConverter\n",
    "from qiskit_nature.drivers import Molecule\n",
    "from qiskit_nature.drivers.second_quantization import PySCFDriver\n",
    "from qiskit_nature.mappers.second_quantization import JordanWignerMapper\n",
    "from qiskit_nature.problems.second_quantization import ElectronicStructureProblem\n",
    "\n",
    "import sys\n",
    "sys.path.append('../../')\n",
    "from entanglement_forging import (EntanglementForgedConfig,\n",
    "                                  EntanglementForgedGroundStateSolver)\n",
    "...\n",
    "\n",
    "# specify problem\n",
    "molecule = Molecule(geometry=[('H', [0., 0., 0.]),\n",
    "                              ('H', [0., 0., 0.735])],\n",
    "                     charge=0, multiplicity=1)\n",
    "driver = PySCFDriver.from_molecule(molecule = molecule, basis='sto3g')\n",
    "problem = ElectronicStructureProblem(driver)\n",
    "problem.second_q_ops()\n",
    "\n",
    "# specify parameters\n",
    "bitstrings = [[1, 0], [0, 1]]\n",
    "ansatz = TwoLocal(2, [], 'cry', [[0, 1], [1, 0]], reps=1)\n",
    "\n",
    "# specify configuration for forgnig\n",
    "config = EntanglementForgedConfig(backend=Aer.get_backend('statevector_simulator'),\n",
    "                                  maxiter=1,\n",
    "                                  initial_params=[0, 0.5 * np.pi])\n",
    "# specify converter\n",
    "converter = QubitConverter(JordanWignerMapper())\n",
    "\n",
    "# create solver\n",
    "forged_ground_state_solver = EntanglementForgedGroundStateSolver(\n",
    "  converter, ansatz, bitstrings, config)\n",
    "\n",
    "# run solver\n",
    "forged_result = forged_ground_state_solver.solve(problem)\n",
    "\n",
    "# get ground state energy\n",
    "print(f\"Ground state energy: {forged_result.ground_state_energy}.\")"
   ]
  },
  {
   "cell_type": "code",
   "execution_count": null,
   "id": "bca8437e",
   "metadata": {},
   "outputs": [],
   "source": []
  }
 ],
 "metadata": {
  "kernelspec": {
   "display_name": "Python 3 (ipykernel)",
   "language": "python",
   "name": "python3"
  },
  "language_info": {
   "codemirror_mode": {
    "name": "ipython",
    "version": 3
   },
   "file_extension": ".py",
   "mimetype": "text/x-python",
   "name": "python",
   "nbconvert_exporter": "python",
   "pygments_lexer": "ipython3",
   "version": "3.9.7"
  }
 },
 "nbformat": 4,
 "nbformat_minor": 5
}
