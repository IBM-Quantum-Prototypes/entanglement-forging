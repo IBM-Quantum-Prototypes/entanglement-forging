{
 "cells": [
  {
   "cell_type": "markdown",
   "metadata": {},
   "source": [
    "# Tutorial 3: Arbitrary Hamiltonian input\n",
    "\n",
    "In this tutorial, we apply Entanglement Forged VQE to compute the energy of a $H_2$ molecule, but rather than define the problem in terms of a Molecule object, we will input the Hamiltonian directly. \n",
    "\n",
    "**What's new here?**\n",
    "- Defining the chemical problem by input the Hamiltonian directly. \n",
    "\n",
    "For comparison, you may wish to review how the same problem was defined using the Molecule object in Tutorial 1. "
   ]
  },
  {
   "cell_type": "markdown",
   "metadata": {},
   "source": [
    "### Importing the relevant modules"
   ]
  },
  {
   "cell_type": "code",
   "execution_count": 1,
   "metadata": {
    "ExecuteTime": {
     "end_time": "2021-04-27T13:41:05.976371Z",
     "start_time": "2021-04-27T13:41:05.955783Z"
    }
   },
   "outputs": [],
   "source": [
    "import warnings\n",
    "\n",
    "warnings.filterwarnings(\"ignore\")"
   ]
  },
  {
   "cell_type": "code",
   "execution_count": 2,
   "metadata": {
    "ExecuteTime": {
     "end_time": "2021-04-27T13:41:07.878080Z",
     "start_time": "2021-04-27T13:41:05.980627Z"
    },
    "tags": []
   },
   "outputs": [],
   "source": [
    "from matplotlib import pyplot as plt\n",
    "import numpy as np\n",
    "\n",
    "from qiskit.circuit.library import TwoLocal\n",
    "from qiskit_nature.drivers import Molecule\n",
    "from qiskit_nature.drivers.second_quantization import PySCFDriver\n",
    "from qiskit_nature.problems.second_quantization import ElectronicStructureProblem\n",
    "from qiskit_nature.mappers.second_quantization import JordanWignerMapper\n",
    "from qiskit_nature.converters.second_quantization import QubitConverter\n",
    "\n",
    "import sys\n",
    "\n",
    "sys.path.append(\"../../\")\n",
    "from entanglement_forging import (\n",
    "    EntanglementForgedConfig,\n",
    "    EntanglementForgedDriver,\n",
    "    EntanglementForgedGroundStateSolver,\n",
    ")"
   ]
  },
  {
   "cell_type": "markdown",
   "metadata": {},
   "source": [
    "## Setting up the problem (the chemistry)\n",
    "\n",
    "We start by setting up the chemical problem. Here, we specify the properties of the system directly."
   ]
  },
  {
   "cell_type": "code",
   "execution_count": 3,
   "metadata": {},
   "outputs": [],
   "source": [
    "# Coefficients that define the one-body terms of the Hamiltonain\n",
    "\n",
    "hcore = np.array([[-1.12421758, -0.9652574], [-0.9652574, -1.12421758]])\n",
    "\n",
    "# Coefficients that define the two-body terms of the Hamiltonian\n",
    "mo_coeff = np.array([[0.54830202, 1.21832731], [0.54830202, -1.21832731]])\n",
    "\n",
    "# Coefficients for the molecular orbitals\n",
    "\n",
    "eri = np.array(\n",
    "    [\n",
    "        [\n",
    "            [[0.77460594, 0.44744572], [0.44744572, 0.57187698]],\n",
    "            [[0.44744572, 0.3009177], [0.3009177, 0.44744572]],\n",
    "        ],\n",
    "        [\n",
    "            [[0.44744572, 0.3009177], [0.3009177, 0.44744572]],\n",
    "            [[0.57187698, 0.44744572], [0.44744572, 0.77460594]],\n",
    "        ],\n",
    "    ]\n",
    ")\n",
    "\n",
    "driver = EntanglementForgedDriver(\n",
    "    hcore=hcore,\n",
    "    mo_coeff=mo_coeff,\n",
    "    eri=eri,\n",
    "    num_alpha=1,\n",
    "    num_beta=1,\n",
    "    nuclear_repulsion_energy=0.7199689944489797,\n",
    ")\n",
    "problem = ElectronicStructureProblem(driver)\n",
    "problem.second_q_ops()\n",
    "\n",
    "converter = QubitConverter(JordanWignerMapper())"
   ]
  },
  {
   "cell_type": "markdown",
   "metadata": {},
   "source": [
    "_**Note**: after this point, everything is the same as in Tutorial 1._"
   ]
  },
  {
   "cell_type": "markdown",
   "metadata": {},
   "source": [
    "## Preparing the bitstrings and the ansatz"
   ]
  },
  {
   "cell_type": "markdown",
   "metadata": {},
   "source": [
    "The ansatz for Forged VQE consists of a set of input bitstrings and a parameterized circuit. In the current implementation, the bitstrings and parameterized circuit are the same for the alpha particle subspace and the beta particle subspace. For a discussion on picking the bitstrings and designing the ansatz, refer to the Explanatory Material. "
   ]
  },
  {
   "cell_type": "code",
   "execution_count": 4,
   "metadata": {
    "ExecuteTime": {
     "end_time": "2021-04-27T13:41:08.939346Z",
     "start_time": "2021-04-27T13:41:08.501552Z"
    },
    "scrolled": true
   },
   "outputs": [
    {
     "data": {
      "text/html": [
       "<pre style=\"word-wrap: normal;white-space: pre;background: #fff0;line-height: 1.1;font-family: &quot;Courier New&quot;,Courier,monospace\">     ┌──────────────────────┐\n",
       "q_0: ┤0                     ├\n",
       "     │  TwoLocal(θ[0],θ[1]) │\n",
       "q_1: ┤1                     ├\n",
       "     └──────────────────────┘</pre>"
      ],
      "text/plain": [
       "     ┌──────────────────────┐\n",
       "q_0: ┤0                     ├\n",
       "     │  TwoLocal(θ[0],θ[1]) │\n",
       "q_1: ┤1                     ├\n",
       "     └──────────────────────┘"
      ]
     },
     "execution_count": 4,
     "metadata": {},
     "output_type": "execute_result"
    }
   ],
   "source": [
    "bitstrings = [[1, 0], [0, 1]]\n",
    "\n",
    "ansatz = TwoLocal(2, [], \"cry\", [[0, 1], [1, 0]], reps=1)\n",
    "\n",
    "ansatz.draw()"
   ]
  },
  {
   "cell_type": "markdown",
   "metadata": {},
   "source": [
    "## Running the Forged VQE algorithm"
   ]
  },
  {
   "cell_type": "markdown",
   "metadata": {},
   "source": [
    "### Statevector simulator\n",
    "\n",
    "We first create an object that contains all the configuration settings, such as the backend, as well as other execution settings."
   ]
  },
  {
   "cell_type": "code",
   "execution_count": 5,
   "metadata": {
    "ExecuteTime": {
     "end_time": "2021-04-27T13:41:08.991125Z",
     "start_time": "2021-04-27T13:41:08.947147Z"
    },
    "scrolled": true
   },
   "outputs": [],
   "source": [
    "from qiskit import Aer\n",
    "\n",
    "backend = Aer.get_backend(\"statevector_simulator\")\n",
    "\n",
    "config = EntanglementForgedConfig(\n",
    "    backend=backend, maxiter=200, initial_params=[0, 0.5 * np.pi]\n",
    ")"
   ]
  },
  {
   "cell_type": "markdown",
   "metadata": {},
   "source": [
    "We are now ready to run the calculation and print the results."
   ]
  },
  {
   "cell_type": "code",
   "execution_count": 6,
   "metadata": {
    "ExecuteTime": {
     "end_time": "2021-04-27T13:41:18.545432Z",
     "start_time": "2021-04-27T13:41:09.239553Z"
    }
   },
   "outputs": [
    {
     "data": {
      "text/plain": [
       "Ground state energy (Hartree): -1.1372960821731657\n",
       "Schmidt values: [-0.99376317  0.11151129]\n",
       "Optimizer parameters: [  6.28338313 -12.53378645]"
      ]
     },
     "execution_count": 6,
     "metadata": {},
     "output_type": "execute_result"
    }
   ],
   "source": [
    "calc = EntanglementForgedGroundStateSolver(converter, ansatz, bitstrings, config)\n",
    "res = calc.solve(problem)\n",
    "\n",
    "res"
   ]
  },
  {
   "cell_type": "markdown",
   "metadata": {},
   "source": [
    "We can also extract the results at each iteration of the classical optimizer.  "
   ]
  },
  {
   "cell_type": "code",
   "execution_count": 7,
   "metadata": {
    "ExecuteTime": {
     "end_time": "2021-04-27T13:41:19.072518Z",
     "start_time": "2021-04-27T13:41:18.547517Z"
    }
   },
   "outputs": [
    {
     "name": "stdout",
     "output_type": "stream",
     "text": [
      "Energies (from only one paramset in each iteration):\n"
     ]
    },
    {
     "data": {
      "image/png": "[encoded data removed]",
      "text/plain": [
       "<Figure size 432x288 with 1 Axes>"
      ]
     },
     "metadata": {
      "needs_background": "light"
     },
     "output_type": "display_data"
    },
    {
     "name": "stdout",
     "output_type": "stream",
     "text": [
      "Schmidts (from only one paramset in each iteration):\n"
     ]
    },
    {
     "data": {
      "image/png": "[encoded data removed]",
      "text/plain": [
       "<Figure size 432x288 with 1 Axes>"
      ]
     },
     "metadata": {
      "needs_background": "light"
     },
     "output_type": "display_data"
    },
    {
     "name": "stdout",
     "output_type": "stream",
     "text": [
      "Parameters (from only one paramset in each iteration):\n"
     ]
    },
    {
     "data": {
      "image/png": "[encoded data removed]",
      "text/plain": [
       "<Figure size 432x288 with 1 Axes>"
      ]
     },
     "metadata": {
      "needs_background": "light"
     },
     "output_type": "display_data"
    }
   ],
   "source": [
    "print(\"Energies (from only one paramset in each iteration):\")\n",
    "plt.plot([e[0] for e in res.get_energies_history()])\n",
    "plt.plot([e[1] for e in res.get_energies_history()[0:-1]])\n",
    "plt.show()\n",
    "print(\"Schmidts (from only one paramset in each iteration):\")\n",
    "plt.plot([s[0] for s in res.get_schmidts_history()])\n",
    "plt.show()\n",
    "print(\"Parameters (from only one paramset in each iteration):\")\n",
    "plt.plot([p[0] for p in res.get_parameters_history()])\n",
    "plt.plot([p[1] for p in res.get_parameters_history()[0:-1]])\n",
    "plt.show()"
   ]
  },
  {
   "cell_type": "code",
   "execution_count": 8,
   "metadata": {},
   "outputs": [
    {
     "data": {
      "text/html": [
       "<h3>Version Information</h3><table><tr><th>Qiskit Software</th><th>Version</th></tr><tr><td><code>qiskit-terra</code></td><td>0.19.1</td></tr><tr><td><code>qiskit-aer</code></td><td>0.10.2</td></tr><tr><td><code>qiskit-ignis</code></td><td>0.7.0</td></tr><tr><td><code>qiskit-ibmq-provider</code></td><td>0.18.3</td></tr><tr><td><code>qiskit</code></td><td>0.34.1</td></tr><tr><td><code>qiskit-nature</code></td><td>0.3.0</td></tr><tr><th>System information</th></tr><tr><td>Python version</td><td>3.9.7</td></tr><tr><td>Python compiler</td><td>Clang 10.0.0 </td></tr><tr><td>Python build</td><td>default, Sep 16 2021 08:50:36</td></tr><tr><td>OS</td><td>Darwin</td></tr><tr><td>CPUs</td><td>8</td></tr><tr><td>Memory (Gb)</td><td>32.0</td></tr><tr><td colspan='2'>Fri Feb 11 09:46:41 2022 CST</td></tr></table>"
      ],
      "text/plain": [
       "<IPython.core.display.HTML object>"
      ]
     },
     "metadata": {},
     "output_type": "display_data"
    },
    {
     "data": {
      "text/html": [
       "<div style='width: 100%; background-color:#d5d9e0;padding-left: 10px; padding-bottom: 10px; padding-right: 10px; padding-top: 5px'><h3>This code is a part of Qiskit</h3><p>&copy; Copyright IBM 2017, 2022.</p><p>This code is licensed under the Apache License, Version 2.0. You may<br>obtain a copy of this license in the LICENSE.txt file in the root directory<br> of this source tree or at http://www.apache.org/licenses/LICENSE-2.0.<p>Any modifications or derivative works of this code must retain this<br>copyright notice, and modified files need to carry a notice indicating<br>that they have been altered from the originals.</p></div>"
      ],
      "text/plain": [
       "<IPython.core.display.HTML object>"
      ]
     },
     "metadata": {},
     "output_type": "display_data"
    }
   ],
   "source": [
    "import qiskit.tools.jupyter\n",
    "\n",
    "%qiskit_version_table\n",
    "%qiskit_copyright"
   ]
  }
 ],
 "metadata": {
  "kernelspec": {
   "display_name": "Python 3 (ipykernel)",
   "language": "python",
   "name": "python3"
  },
  "language_info": {
   "codemirror_mode": {
    "name": "ipython",
    "version": 3
   },
   "file_extension": ".py",
   "mimetype": "text/x-python",
   "name": "python",
   "nbconvert_exporter": "python",
   "pygments_lexer": "ipython3",
   "version": "3.9.7"
  }
 },
 "nbformat": 4,
 "nbformat_minor": 4
}
