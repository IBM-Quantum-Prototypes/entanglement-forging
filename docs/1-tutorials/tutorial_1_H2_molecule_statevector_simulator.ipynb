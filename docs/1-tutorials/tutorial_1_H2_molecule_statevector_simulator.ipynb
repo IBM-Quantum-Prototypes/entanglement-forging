{
 "cells": [
  {
   "cell_type": "markdown",
   "metadata": {},
   "source": [
    "# Tutorial 1: Entanglement Forged VQE for the $H_2$ molecule\n",
    "\n",
    "In this tutorial, we apply Entanglement Forged VQE to compute the energy of a $H_2$ molecule. \n",
    "\n",
    "For comparison, you may wish to review how regular VQE is used to solve the same problem [here](https://github.com/Qiskit/qiskit-nature/blob/stable/0.1/docs/tutorials/03_ground_state_solvers.ipynb). "
   ]
  },
  {
   "cell_type": "markdown",
   "metadata": {},
   "source": [
    "## Import the relevant modules"
   ]
  },
  {
   "cell_type": "code",
   "execution_count": 1,
   "metadata": {
    "ExecuteTime": {
     "end_time": "2021-04-27T13:41:07.878080Z",
     "start_time": "2021-04-27T13:41:05.980627Z"
    },
    "tags": []
   },
   "outputs": [],
   "source": [
    "import sys\n",
    "\n",
    "from matplotlib import pyplot as plt\n",
    "import numpy as np\n",
    "\n",
    "from qiskit import Aer\n",
    "from qiskit.circuit.library import TwoLocal\n",
    "from qiskit_nature.drivers import Molecule\n",
    "from qiskit_nature.drivers.second_quantization import PySCFDriver\n",
    "from qiskit_nature.problems.second_quantization import ElectronicStructureProblem\n",
    "from qiskit_nature.mappers.second_quantization import JordanWignerMapper\n",
    "from qiskit_nature.converters.second_quantization import QubitConverter\n",
    "from qiskit_nature.algorithms.ground_state_solvers import (\n",
    "                                                    GroundStateEigensolver, \n",
    "                                                    NumPyMinimumEigensolverFactory)\n",
    "\n",
    "sys.path.append('../../')\n",
    "from entanglement_forging import EntanglementForgedGroundStateSolver\n",
    "from entanglement_forging import EntanglementForgedConfig"
   ]
  },
  {
   "cell_type": "markdown",
   "metadata": {},
   "source": [
    "## Set up the chemical problem"
   ]
  },
  {
   "cell_type": "code",
   "execution_count": 2,
   "metadata": {
    "ExecuteTime": {
     "end_time": "2021-04-27T13:41:07.934705Z",
     "start_time": "2021-04-27T13:41:07.880717Z"
    }
   },
   "outputs": [],
   "source": [
    "# Specify Molecule and geometry\n",
    "molecule = Molecule(geometry=[('H', [0., 0., 0.]),\n",
    "                              ('H', [0., 0., 0.735])],\n",
    "                     charge=0, multiplicity=1)\n",
    "\n",
    "# Calculate second quantized operators\n",
    "driver = PySCFDriver.from_molecule(molecule = molecule)\n",
    "problem = ElectronicStructureProblem(driver)\n",
    "problem.second_q_ops()\n",
    "\n",
    "# Instantiate our fermion-to-qubit converter\n",
    "converter = QubitConverter(JordanWignerMapper())"
   ]
  },
  {
   "cell_type": "markdown",
   "metadata": {},
   "source": [
    "## Compute the classical result for comparison"
   ]
  },
  {
   "cell_type": "code",
   "execution_count": 3,
   "metadata": {
    "ExecuteTime": {
     "end_time": "2021-04-27T13:41:08.499392Z",
     "start_time": "2021-04-27T13:41:08.080069Z"
    }
   },
   "outputs": [
    {
     "name": "stdout",
     "output_type": "stream",
     "text": [
      "Classical energy =  -1.1373060357534013\n"
     ]
    }
   ],
   "source": [
    "solver = GroundStateEigensolver(converter, NumPyMinimumEigensolverFactory(use_default_filter_criterion=False))\n",
    "result = solver.solve(problem)\n",
    "\n",
    "print('Classical energy = ', result.total_energies[0])"
   ]
  },
  {
   "cell_type": "markdown",
   "metadata": {},
   "source": [
    "## Prepare the bitstrings and the ansatz"
   ]
  },
  {
   "cell_type": "markdown",
   "metadata": {},
   "source": [
    "The ansatz for Forged VQE consists of a set of input bitstrings and a parameterized circuit. In the current implementation, the bitstrings and parameterized circuit are the same for the alpha particle subspace and the beta particle subspace. For a discussion on picking the bitstrings and designing the ansatz, refer to the Explanatory Material. "
   ]
  },
  {
   "cell_type": "code",
   "execution_count": 4,
   "metadata": {
    "ExecuteTime": {
     "end_time": "2021-04-27T13:41:08.939346Z",
     "start_time": "2021-04-27T13:41:08.501552Z"
    },
    "scrolled": true
   },
   "outputs": [
    {
     "name": "stdout",
     "output_type": "stream",
     "text": [
      "     ┌──────────────────────┐\n",
      "q_0: ┤0                     ├\n",
      "     │  TwoLocal(θ[0],θ[1]) │\n",
      "q_1: ┤1                     ├\n",
      "     └──────────────────────┘\n"
     ]
    }
   ],
   "source": [
    "# The ansatz for forged VQE is represented by a set of bitstrings and a parameterized circuit\n",
    "ansatz_bitstrings = [[1,0],[0,1]]\n",
    "ansatz_circuit = TwoLocal(2, [], 'cry', [[0,1],[1,0]], reps=1)\n",
    "\n",
    "print(ansatz_circuit.draw())"
   ]
  },
  {
   "cell_type": "markdown",
   "metadata": {},
   "source": [
    "## Prepare the forged ground state solver"
   ]
  },
  {
   "cell_type": "code",
   "execution_count": 5,
   "metadata": {},
   "outputs": [],
   "source": [
    "backend = Aer.get_backend('statevector_simulator')\n",
    "config = EntanglementForgedConfig(backend=backend, maxiter = 50, initial_params=[0,0.5*np.pi])\n",
    "solver = EntanglementForgedGroundStateSolver(converter, ansatz_circuit, ansatz_bitstrings, config)"
   ]
  },
  {
   "cell_type": "markdown",
   "metadata": {},
   "source": [
    "## Calculate the ground state energy and print the results"
   ]
  },
  {
   "cell_type": "code",
   "execution_count": 6,
   "metadata": {
    "ExecuteTime": {
     "end_time": "2021-04-27T13:41:18.545432Z",
     "start_time": "2021-04-27T13:41:09.239553Z"
    }
   },
   "outputs": [
    {
     "data": {
      "text/plain": [
       "Ground state energy (Hartree): -1.1171616104754318\n",
       "Schmidt values: [-0.99995822  0.00914086]\n",
       "Optimizer parameters: [ 6.2833974  -3.77952007]"
      ]
     },
     "execution_count": 6,
     "metadata": {},
     "output_type": "execute_result"
    }
   ],
   "source": [
    "calc = EntanglementForgedGroundStateSolver(converter, ansatz_circuit, ansatz_bitstrings, config)\n",
    "res = calc.solve(problem)\n",
    "\n",
    "res"
   ]
  },
  {
   "cell_type": "markdown",
   "metadata": {},
   "source": [
    "## Plot the optimizer history"
   ]
  },
  {
   "cell_type": "code",
   "execution_count": 7,
   "metadata": {
    "ExecuteTime": {
     "end_time": "2021-04-27T13:41:19.072518Z",
     "start_time": "2021-04-27T13:41:18.547517Z"
    }
   },
   "outputs": [
    {
     "name": "stdout",
     "output_type": "stream",
     "text": [
      "Energies (from only one paramset in each iteration):\n"
     ]
    },
    {
     "data": {
      "image/png": "[encoded data removed]",
      "text/plain": [
       "<Figure size 432x288 with 1 Axes>"
      ]
     },
     "metadata": {
      "needs_background": "light"
     },
     "output_type": "display_data"
    },
    {
     "name": "stdout",
     "output_type": "stream",
     "text": [
      "Schmidts (from only one paramset in each iteration):\n"
     ]
    },
    {
     "data": {
      "image/png": "[encoded data removed]",
      "text/plain": [
       "<Figure size 432x288 with 1 Axes>"
      ]
     },
     "metadata": {
      "needs_background": "light"
     },
     "output_type": "display_data"
    },
    {
     "name": "stdout",
     "output_type": "stream",
     "text": [
      "Parameters (from only one paramset in each iteration):\n"
     ]
    },
    {
     "data": {
      "image/png": "[encoded data removed]",
      "text/plain": [
       "<Figure size 432x288 with 1 Axes>"
      ]
     },
     "metadata": {
      "needs_background": "light"
     },
     "output_type": "display_data"
    }
   ],
   "source": [
    "print('Energies (from only one paramset in each iteration):')\n",
    "plt.plot([e[0] for e in res.get_energies_history()])\n",
    "plt.plot([e[1] for e in res.get_energies_history()[0:-1]])\n",
    "plt.show()\n",
    "print('Schmidts (from only one paramset in each iteration):')\n",
    "plt.plot([s[0] for s in res.get_schmidts_history()])\n",
    "plt.show()\n",
    "print('Parameters (from only one paramset in each iteration):')\n",
    "plt.plot([p[0] for p in res.get_parameters_history()])\n",
    "plt.plot([p[1] for p in res.get_parameters_history()[0:-1]])\n",
    "plt.show()"
   ]
  },
  {
   "cell_type": "code",
   "execution_count": 8,
   "metadata": {},
   "outputs": [
    {
     "data": {
      "text/html": [
       "<h3>Version Information</h3><table><tr><th>Qiskit Software</th><th>Version</th></tr><tr><td><code>qiskit-terra</code></td><td>0.19.1</td></tr><tr><td><code>qiskit-aer</code></td><td>0.10.2</td></tr><tr><td><code>qiskit-ignis</code></td><td>0.7.0</td></tr><tr><td><code>qiskit-ibmq-provider</code></td><td>0.18.3</td></tr><tr><td><code>qiskit</code></td><td>0.34.1</td></tr><tr><td><code>qiskit-nature</code></td><td>0.3.0</td></tr><tr><td><code>qiskit-machine-learning</code></td><td>0.3.1</td></tr><tr><th>System information</th></tr><tr><td>Python version</td><td>3.9.7</td></tr><tr><td>Python compiler</td><td>Clang 10.0.0 </td></tr><tr><td>Python build</td><td>default, Sep 16 2021 08:50:36</td></tr><tr><td>OS</td><td>Darwin</td></tr><tr><td>CPUs</td><td>8</td></tr><tr><td>Memory (Gb)</td><td>32.0</td></tr><tr><td colspan='2'>Wed Mar 09 19:32:39 2022 CST</td></tr></table>"
      ],
      "text/plain": [
       "<IPython.core.display.HTML object>"
      ]
     },
     "metadata": {},
     "output_type": "display_data"
    },
    {
     "data": {
      "text/html": [
       "<div style='width: 100%; background-color:#d5d9e0;padding-left: 10px; padding-bottom: 10px; padding-right: 10px; padding-top: 5px'><h3>This code is a part of Qiskit</h3><p>&copy; Copyright IBM 2017, 2022.</p><p>This code is licensed under the Apache License, Version 2.0. You may<br>obtain a copy of this license in the LICENSE.txt file in the root directory<br> of this source tree or at http://www.apache.org/licenses/LICENSE-2.0.<p>Any modifications or derivative works of this code must retain this<br>copyright notice, and modified files need to carry a notice indicating<br>that they have been altered from the originals.</p></div>"
      ],
      "text/plain": [
       "<IPython.core.display.HTML object>"
      ]
     },
     "metadata": {},
     "output_type": "display_data"
    }
   ],
   "source": [
    "import qiskit.tools.jupyter\n",
    "%qiskit_version_table\n",
    "%qiskit_copyright"
   ]
  }
 ],
 "metadata": {
  "kernelspec": {
   "display_name": "Python 3 (ipykernel)",
   "language": "python",
   "name": "python3"
  },
  "language_info": {
   "codemirror_mode": {
    "name": "ipython",
    "version": 3
   },
   "file_extension": ".py",
   "mimetype": "text/x-python",
   "name": "python",
   "nbconvert_exporter": "python",
   "pygments_lexer": "ipython3",
   "version": "3.9.7"
  }
 },
 "nbformat": 4,
 "nbformat_minor": 4
}
