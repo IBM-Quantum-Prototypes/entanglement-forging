{
 "cells": [
  {
   "cell_type": "markdown",
   "id": "5cf2a67a",
   "metadata": {},
   "source": [
    "# Tutorial 1: Entanglement Forged VQE for the $TS$ molecule\n",
    "\n",
    "In this tutorial, we apply Entanglement Forged VQE to compute the energy of a $TS$ molecule. We will use a separate list of bitstrings for subsystems U and V."
   ]
  },
  {
   "cell_type": "markdown",
   "id": "def54061",
   "metadata": {},
   "source": [
    "### Importing the relevant modules"
   ]
  },
  {
   "cell_type": "code",
   "execution_count": 1,
   "id": "ca03fbe2",
   "metadata": {},
   "outputs": [],
   "source": [
    "from matplotlib import pyplot as plt\n",
    "import numpy as np\n",
    "\n",
    "from qiskit import Aer\n",
    "from qiskit.circuit import QuantumCircuit, Parameter\n",
    "from qiskit_nature.drivers import Molecule\n",
    "from qiskit_nature.drivers.second_quantization import PySCFDriver\n",
    "from qiskit_nature.problems.second_quantization import ElectronicStructureProblem\n",
    "from qiskit_nature.mappers.second_quantization import JordanWignerMapper\n",
    "from qiskit_nature.algorithms.ground_state_solvers import GroundStateEigensolver, NumPyMinimumEigensolverFactory\n",
    "from qiskit_nature.converters.second_quantization import QubitConverter\n",
    "from qiskit_nature.properties.second_quantization.electronic.bases import ElectronicBasis\n",
    "from qiskit_nature.transformers.second_quantization.electronic.active_space_transformer import ActiveSpaceTransformer\n",
    "\n",
    "from entanglement_forging import EntanglementForgedConfig, EntanglementForgedDriver, EntanglementForgedGroundStateSolver"
   ]
  },
  {
   "cell_type": "markdown",
   "id": "f4e58c6d",
   "metadata": {},
   "source": [
    "## Setting up the problem (the chemistry)\n",
    "\n",
    "We start by setting up the chemical problem. "
   ]
  },
  {
   "cell_type": "code",
   "execution_count": 2,
   "id": "f6a9eb70",
   "metadata": {},
   "outputs": [],
   "source": [
    "molecule = Molecule(geometry = [['C',[-1.662349902448, -0.695322331415, -0.307726967072]],\n",
    "                                ['C',[0.477506399751, -1.159887599109, 0.386176362728]],\n",
    "                                ['C',[0.465033028474, 1.178065976344, 0.346006737462]],\n",
    "                                ['C',[-1.669162693941, 0.665549642529, -0.333932016197]],\n",
    "                                ['C',[0.353240259603, 0.025254735280, 1.345385392500]],\n",
    "                                ['H',[1.236672966467, 0.041367363616, 2.008294800099]],\n",
    "                                ['H',[-0.545529019687, 0.031307436573, 1.971273375160]],\n",
    "                                ['H',[0.387169841664, -2.199386408363, 0.712397189321]],\n",
    "                                ['H',[0.365402809281, 2.227055868201, 0.637306711025]],\n",
    "                                ['H',[-1.573663113993, -1.275918322039, -1.226211748221]],\n",
    "                                ['H',[-1.583878458115, 1.210474104515, -1.274313037410]],\n",
    "                                ['H',[-2.033162089723, -1.244377161302, 0.558595832016]],\n",
    "                                ['H',[-2.046566709656, 1.244731052782, 0.509648077185]],\n",
    "                                ['C',[1.139953226957, -0.725010259076, -0.736843572958]],\n",
    "                                ['C',[1.131273764619, 0.711596029626, -0.762213847697]],\n",
    "                                ['H',[1.502490625700, -1.357451877629, -1.549059430283]],\n",
    "                                ['H',[1.487075446023, 1.319266551725, -1.596040408218]]],                                   \n",
    "                    charge       = 0,\n",
    "                    multiplicity = 1)\n",
    "\n",
    "driver    = PySCFDriver.from_molecule(molecule=molecule,basis='sto-3g')\n",
    "converter = QubitConverter(JordanWignerMapper())"
   ]
  },
  {
   "cell_type": "markdown",
   "id": "a23c2cf9",
   "metadata": {},
   "source": [
    "### Classical Result\n",
    "For comparison, we also compute the classical result. "
   ]
  },
  {
   "cell_type": "code",
   "execution_count": 3,
   "id": "c939ae98",
   "metadata": {},
   "outputs": [
    {
     "name": "stdout",
     "output_type": "stream",
     "text": [
      "Classical energy =  (-267.524787205886+0j)\n"
     ]
    }
   ],
   "source": [
    "#Molecular problem was transformed as the Hamiltonian in the 4 orbital active space. \n",
    "\n",
    "transformer= ActiveSpaceTransformer(num_electrons=4, num_molecular_orbitals=4)\n",
    "problem_reduced = ElectronicStructureProblem(driver, [transformer])\n",
    "solver = GroundStateEigensolver(converter, NumPyMinimumEigensolverFactory(use_default_filter_criterion=False))\n",
    "result = solver.solve(problem_reduced)\n",
    "print('Classical energy = ', result.total_energies[0])"
   ]
  },
  {
   "cell_type": "markdown",
   "id": "fe4305e8",
   "metadata": {},
   "source": [
    "# Calculate integrals and energy shift needed for operator decomposition"
   ]
  },
  {
   "cell_type": "code",
   "execution_count": 4,
   "id": "710be1d5",
   "metadata": {},
   "outputs": [],
   "source": [
    "H_fermionic = problem_reduced.second_q_ops()[0]\n",
    "electronic_energy_object = problem_reduced.grouped_property_transformed.get_property('ElectronicEnergy')\n",
    "energy_shift = electronic_energy_object._shift['ActiveSpaceTransformer']+electronic_energy_object._nuclear_repulsion_energy\n",
    "\n",
    "#These are the integrals in the molecular orbital basis retrieved from the 4 orbital active space. \n",
    "\n",
    "one_body_integrals_alpha = electronic_energy_object.get_electronic_integral(ElectronicBasis.MO, 1)._matrices[0]\n",
    "one_body_integrals_beta = electronic_energy_object.get_electronic_integral(ElectronicBasis.MO, 1)._matrices[1]\n",
    "\n",
    "two_body_integrals_alpha_alpha = electronic_energy_object.get_electronic_integral(ElectronicBasis.MO, 2)._matrices[0]\n",
    "two_body_integrals_beta_alpha = electronic_energy_object.get_electronic_integral(ElectronicBasis.MO, 2)._matrices[1]\n",
    "two_body_integrals_beta_beta = electronic_energy_object.get_electronic_integral(ElectronicBasis.MO, 2)._matrices[2]\n",
    "two_body_integrals_alpha_beta = electronic_energy_object.get_electronic_integral(ElectronicBasis.MO, 2)._matrices[3]"
   ]
  },
  {
   "cell_type": "markdown",
   "id": "1ecb12a1",
   "metadata": {},
   "source": [
    "## Create an ElectronicStructureProblem from our EF Driver and perform second quantization"
   ]
  },
  {
   "cell_type": "code",
   "execution_count": 5,
   "id": "bb1449a4",
   "metadata": {},
   "outputs": [],
   "source": [
    "#Setting up the entanglement forging problem in the 4 orbital active space:\n",
    "driver = EntanglementForgedDriver(hcore=one_body_integrals_alpha,\n",
    "                                  mo_coeff=np.eye(4,4),\n",
    "                                  eri=two_body_integrals_alpha_alpha,\n",
    "                                  num_alpha=2,\n",
    "                                  num_beta=2,\n",
    "                                  nuclear_repulsion_energy=energy_shift)\n",
    "problem = ElectronicStructureProblem(driver)\n",
    "problem.second_q_ops()\n",
    "\n",
    "converter = QubitConverter(JordanWignerMapper())"
   ]
  },
  {
   "cell_type": "markdown",
   "id": "67970e18",
   "metadata": {},
   "source": [
    "## Specify different Schmidt coefficients for each subsystem, U and V, by creating two separate lists of bitstrings."
   ]
  },
  {
   "cell_type": "code",
   "execution_count": 6,
   "id": "f5b5aceb",
   "metadata": {},
   "outputs": [],
   "source": [
    "bitstrings_u = [[1, 1, 0, 0], [1, 0, 1, 0], [0, 1, 0, 1], [0, 1, 1, 0]]\n",
    "bitstrings_v = [[1, 1, 0, 0], [1, 0, 1, 0], [0, 1, 0, 1], [1, 0, 0, 1]]\n",
    "\n",
    "brickwall =[(2,3),(1,2),(0,1),(2,3),(1,2),(2,3)]\n",
    "\n",
    "n_theta    = len(brickwall)\n",
    "nqubit = len(bitstrings_u[0])\n",
    "theta    = Parameter('θ')\n",
    "hop_gate = QuantumCircuit(2, name=\"Hop gate\")\n",
    "hop_gate.h(0)\n",
    "hop_gate.cx(1, 0)\n",
    "hop_gate.cx(0, 1)\n",
    "hop_gate.ry(-theta, 0)\n",
    "hop_gate.ry(-theta, 1)\n",
    "hop_gate.cx(0, 1)\n",
    "hop_gate.h(0)\n",
    "\n",
    "theta_vec = [Parameter('θ%d'%i) for i in range(n_theta)]"
   ]
  },
  {
   "cell_type": "markdown",
   "id": "541b1a88",
   "metadata": {},
   "source": [
    "## Create the ansatz circuit. Note that we will use the same circuit for both subsystems, U and V."
   ]
  },
  {
   "cell_type": "code",
   "execution_count": 7,
   "id": "ec509357",
   "metadata": {},
   "outputs": [
    {
     "data": {
      "text/html": [
       "<pre style=\"word-wrap: normal;white-space: pre;background: #fff0;line-height: 1.1;font-family: &quot;Courier New&quot;,Courier,monospace\">                                       ┌───────────────┐                                  \n",
       "q_0: ──────────────────────────────────┤0              ├──────────────────────────────────\n",
       "                      ┌───────────────┐│  Hop gate(θ2) │┌───────────────┐                 \n",
       "q_1: ─────────────────┤0              ├┤1              ├┤0              ├─────────────────\n",
       "     ┌───────────────┐│  Hop gate(θ1) │├───────────────┤│  Hop gate(θ4) │┌───────────────┐\n",
       "q_2: ┤0              ├┤1              ├┤0              ├┤1              ├┤0              ├\n",
       "     │  Hop gate(θ0) │└───────────────┘│  Hop gate(θ3) │└───────────────┘│  Hop gate(θ5) │\n",
       "q_3: ┤1              ├─────────────────┤1              ├─────────────────┤1              ├\n",
       "     └───────────────┘                 └───────────────┘                 └───────────────┘</pre>"
      ],
      "text/plain": [
       "                                       ┌───────────────┐                                  \n",
       "q_0: ──────────────────────────────────┤0              ├──────────────────────────────────\n",
       "                      ┌───────────────┐│  Hop gate(θ2) │┌───────────────┐                 \n",
       "q_1: ─────────────────┤0              ├┤1              ├┤0              ├─────────────────\n",
       "     ┌───────────────┐│  Hop gate(θ1) │├───────────────┤│  Hop gate(θ4) │┌───────────────┐\n",
       "q_2: ┤0              ├┤1              ├┤0              ├┤1              ├┤0              ├\n",
       "     │  Hop gate(θ0) │└───────────────┘│  Hop gate(θ3) │└───────────────┘│  Hop gate(θ5) │\n",
       "q_3: ┤1              ├─────────────────┤1              ├─────────────────┤1              ├\n",
       "     └───────────────┘                 └───────────────┘                 └───────────────┘"
      ]
     },
     "execution_count": 7,
     "metadata": {},
     "output_type": "execute_result"
    }
   ],
   "source": [
    "ansatz = QuantumCircuit(nqubit)\n",
    "for m,(i,j) in enumerate(brickwall):\n",
    "    ansatz.append(hop_gate.to_gate({theta:theta_vec[m]}),[i,j])\n",
    "\n",
    "ansatz.draw('text', justify='right', fold=-1)"
   ]
  },
  {
   "cell_type": "markdown",
   "id": "e2ee7c35",
   "metadata": {},
   "source": [
    "## Configure the EF algorithm"
   ]
  },
  {
   "cell_type": "code",
   "execution_count": 8,
   "id": "8f5aff64",
   "metadata": {},
   "outputs": [],
   "source": [
    "backend = Aer.get_backend('statevector_simulator')\n",
    "config = EntanglementForgedConfig(backend = backend, maxiter = 30, initial_params=[0.1]*n_theta,optimizer_name='L_BFGS_B')"
   ]
  },
  {
   "cell_type": "markdown",
   "id": "e4e7970d",
   "metadata": {},
   "source": [
    "## Run the EF algorithm and print the results"
   ]
  },
  {
   "cell_type": "code",
   "execution_count": 9,
   "id": "55845b9c",
   "metadata": {},
   "outputs": [
    {
     "data": {
      "text/plain": [
       "Ground state energy (Hartree): (-267.51266554757825+0j)\n",
       "Schmidt values: [-0.96640826  0.17797529  0.156334    0.09969728]\n",
       "Optimizer parameters: [-0.24814692  1.03693875  0.01154805  0.00851938  1.03519701  0.24844022]"
      ]
     },
     "execution_count": 9,
     "metadata": {},
     "output_type": "execute_result"
    }
   ],
   "source": [
    "calc = EntanglementForgedGroundStateSolver(qubit_converter=converter, ansatz=ansatz, bitstrings_u=bitstrings_u, bitstrings_v=bitstrings_v, config=config)\n",
    "res = calc.solve(problem)\n",
    "\n",
    "res"
   ]
  },
  {
   "cell_type": "markdown",
   "id": "39bcd3f5",
   "metadata": {},
   "source": [
    "## We see the ground state energy converged toward the target value and that one of our Schmidt coefficients dominates the others."
   ]
  },
  {
   "cell_type": "code",
   "execution_count": 12,
   "id": "319e9d97",
   "metadata": {},
   "outputs": [
    {
     "name": "stdout",
     "output_type": "stream",
     "text": [
      "Estimated ground state energy vs Optimizer Iterations\n"
     ]
    },
    {
     "data": {
      "image/png": "[encoded data removed]",
      "text/plain": [
       "<Figure size 432x288 with 1 Axes>"
      ]
     },
     "metadata": {
      "needs_background": "light"
     },
     "output_type": "display_data"
    },
    {
     "name": "stdout",
     "output_type": "stream",
     "text": [
      "Estimated Schmidt coefficients vs Optimizer Iterations\n"
     ]
    },
    {
     "data": {
      "image/png": "[encoded data removed]",
      "text/plain": [
       "<Figure size 432x288 with 1 Axes>"
      ]
     },
     "metadata": {
      "needs_background": "light"
     },
     "output_type": "display_data"
    }
   ],
   "source": [
    "print('Estimated ground state energy vs Optimizer Iterations')\n",
    "plt.plot([e[0] for e in res.get_energies_history()])\n",
    "plt.show()\n",
    "print('Estimated Schmidt coefficients vs Optimizer Iterations')\n",
    "plt.plot([s[0] for s in res.get_schmidts_history()])\n",
    "plt.show()"
   ]
  },
  {
   "cell_type": "code",
   "execution_count": 11,
   "id": "5c53a636",
   "metadata": {},
   "outputs": [
    {
     "data": {
      "text/html": [
       "<h3>Version Information</h3><table><tr><th>Qiskit Software</th><th>Version</th></tr><tr><td><code>qiskit-terra</code></td><td>0.20.1</td></tr><tr><td><code>qiskit-aer</code></td><td>0.10.4</td></tr><tr><td><code>qiskit-ignis</code></td><td>0.7.0</td></tr><tr><td><code>qiskit-ibmq-provider</code></td><td>0.19.1</td></tr><tr><td><code>qiskit</code></td><td>0.36.1</td></tr><tr><td><code>qiskit-nature</code></td><td>0.4.1</td></tr><tr><td><code>qiskit-machine-learning</code></td><td>0.4.0</td></tr><tr><th>System information</th></tr><tr><td>Python version</td><td>3.9.7</td></tr><tr><td>Python compiler</td><td>Clang 10.0.0 </td></tr><tr><td>Python build</td><td>default, Sep 16 2021 08:50:36</td></tr><tr><td>OS</td><td>Darwin</td></tr><tr><td>CPUs</td><td>8</td></tr><tr><td>Memory (Gb)</td><td>32.0</td></tr><tr><td colspan='2'>Thu Jun 30 09:02:35 2022 CDT</td></tr></table>"
      ],
      "text/plain": [
       "<IPython.core.display.HTML object>"
      ]
     },
     "metadata": {},
     "output_type": "display_data"
    },
    {
     "data": {
      "text/html": [
       "<div style='width: 100%; background-color:#d5d9e0;padding-left: 10px; padding-bottom: 10px; padding-right: 10px; padding-top: 5px'><h3>This code is a part of Qiskit</h3><p>&copy; Copyright IBM 2017, 2022.</p><p>This code is licensed under the Apache License, Version 2.0. You may<br>obtain a copy of this license in the LICENSE.txt file in the root directory<br> of this source tree or at http://www.apache.org/licenses/LICENSE-2.0.<p>Any modifications or derivative works of this code must retain this<br>copyright notice, and modified files need to carry a notice indicating<br>that they have been altered from the originals.</p></div>"
      ],
      "text/plain": [
       "<IPython.core.display.HTML object>"
      ]
     },
     "metadata": {},
     "output_type": "display_data"
    }
   ],
   "source": [
    "import qiskit.tools.jupyter\n",
    "\n",
    "%qiskit_version_table\n",
    "%qiskit_copyright"
   ]
  }
 ],
 "metadata": {
  "kernelspec": {
   "display_name": "Python 3 (ipykernel)",
   "language": "python",
   "name": "python3"
  },
  "language_info": {
   "codemirror_mode": {
    "name": "ipython",
    "version": 3
   },
   "file_extension": ".py",
   "mimetype": "text/x-python",
   "name": "python",
   "nbconvert_exporter": "python",
   "pygments_lexer": "ipython3",
   "version": "3.9.7"
  }
 },
 "nbformat": 4,
 "nbformat_minor": 5
}
