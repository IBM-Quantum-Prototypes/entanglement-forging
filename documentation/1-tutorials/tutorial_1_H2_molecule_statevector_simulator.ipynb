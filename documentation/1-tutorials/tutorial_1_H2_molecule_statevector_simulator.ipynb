{
 "cells": [
  {
   "cell_type": "markdown",
   "metadata": {},
   "source": [
    "# Tutorial 1: Entanglement Forged VQE for the $H_2$ molecule\n",
    "\n",
    "In this tutorial, we apply Entanglement Forged VQE to compute the energy of a $H_2$ molecule. \n",
    "\n",
    "For comparison, you may wish to review how regular VQE is used to solve the same problem [here](https://github.com/Qiskit/qiskit-nature/blob/stable/0.1/docs/tutorials/03_ground_state_solvers.ipynb). "
   ]
  },
  {
   "cell_type": "markdown",
   "metadata": {},
   "source": [
    "### Importing the relevant modules"
   ]
  },
  {
   "cell_type": "code",
   "execution_count": 1,
   "metadata": {
    "ExecuteTime": {
     "end_time": "2021-04-27T13:41:05.976371Z",
     "start_time": "2021-04-27T13:41:05.955783Z"
    }
   },
   "outputs": [],
   "source": [
    "import warnings\n",
    "warnings.filterwarnings(\"ignore\")"
   ]
  },
  {
   "cell_type": "code",
   "execution_count": 2,
   "metadata": {
    "ExecuteTime": {
     "end_time": "2021-04-27T13:41:07.878080Z",
     "start_time": "2021-04-27T13:41:05.980627Z"
    },
    "tags": []
   },
   "outputs": [],
   "source": [
    "from matplotlib import pyplot as plt\n",
    "import numpy as np\n",
    "\n",
    "from qiskit.circuit.library import TwoLocal\n",
    "from qiskit_nature.drivers import PySCFDriver, Molecule\n",
    "from qiskit_nature.problems.second_quantization import ElectronicStructureProblem\n",
    "from qiskit_nature.mappers.second_quantization import JordanWignerMapper\n",
    "from qiskit_nature.converters.second_quantization import QubitConverter\n",
    "\n",
    "import sys\n",
    "sys.path.append('../../')\n",
    "from entanglement_forging import EntanglementForgedGroundStateSolver\n",
    "from entanglement_forging import EntanglementForgedConfig"
   ]
  },
  {
   "cell_type": "markdown",
   "metadata": {},
   "source": [
    "## Setting up the problem (the chemistry)\n",
    "\n",
    "We start by setting up the chemical problem. "
   ]
  },
  {
   "cell_type": "code",
   "execution_count": 3,
   "metadata": {
    "ExecuteTime": {
     "end_time": "2021-04-27T13:41:07.934705Z",
     "start_time": "2021-04-27T13:41:07.880717Z"
    }
   },
   "outputs": [],
   "source": [
    "molecule = Molecule(geometry=[['H', [0., 0., 0.]],\n",
    "                              ['H', [0., 0., 0.735]]],\n",
    "                     charge=0, multiplicity=1)\n",
    "driver = PySCFDriver(molecule = molecule, basis='sto3g')\n",
    "problem = ElectronicStructureProblem(driver)\n",
    "\n",
    "converter = QubitConverter(JordanWignerMapper())"
   ]
  },
  {
   "cell_type": "markdown",
   "metadata": {},
   "source": [
    "### Classical Result\n",
    "For comparison, we also compute the classical result. "
   ]
  },
  {
   "cell_type": "code",
   "execution_count": 4,
   "metadata": {
    "ExecuteTime": {
     "end_time": "2021-04-27T13:41:08.499392Z",
     "start_time": "2021-04-27T13:41:08.080069Z"
    }
   },
   "outputs": [
    {
     "name": "stdout",
     "output_type": "stream",
     "text": [
      "Classical energy =  -1.1373060357534017\n"
     ]
    }
   ],
   "source": [
    "from qiskit_nature.algorithms.ground_state_solvers import GroundStateEigensolver, NumPyMinimumEigensolverFactory\n",
    "\n",
    "solver = GroundStateEigensolver(converter, NumPyMinimumEigensolverFactory(use_default_filter_criterion=False))\n",
    "\n",
    "result = solver.solve(problem)\n",
    "\n",
    "print('Classical energy = ', result.total_energies[0])"
   ]
  },
  {
   "cell_type": "markdown",
   "metadata": {},
   "source": [
    "## Preparing the bitstrings and the ansatz"
   ]
  },
  {
   "cell_type": "markdown",
   "metadata": {},
   "source": [
    "The ansatz for Forged VQE consists of a set of input bitstrings and a parameterized circuit. In the current implementation, the bitstrings and parameterized circuit are the same for the alpha particle subspace and the beta particle subspace. For a discussion on picking the bitstrings and designing the ansatz, refer to the Explanatory Material. "
   ]
  },
  {
   "cell_type": "code",
   "execution_count": 5,
   "metadata": {
    "ExecuteTime": {
     "end_time": "2021-04-27T13:41:08.939346Z",
     "start_time": "2021-04-27T13:41:08.501552Z"
    },
    "scrolled": true
   },
   "outputs": [
    {
     "data": {
      "text/html": [
       "<pre style=\"word-wrap: normal;white-space: pre;background: #fff0;line-height: 1.1;font-family: &quot;Courier New&quot;,Courier,monospace\">                 ┌──────────┐\n",
       "q_0: ─────■──────┤ RY(θ[1]) ├\n",
       "     ┌────┴─────┐└────┬─────┘\n",
       "q_1: ┤ RY(θ[0]) ├─────■──────\n",
       "     └──────────┘            </pre>"
      ],
      "text/plain": [
       "                 ┌──────────┐\n",
       "q_0: ─────■──────┤ RY(θ[1]) ├\n",
       "     ┌────┴─────┐└────┬─────┘\n",
       "q_1: ┤ RY(θ[0]) ├─────■──────\n",
       "     └──────────┘            "
      ]
     },
     "execution_count": 5,
     "metadata": {},
     "output_type": "execute_result"
    }
   ],
   "source": [
    "bitstrings = [[1,0],[0,1]]\n",
    "\n",
    "ansatz = TwoLocal(2, [], 'cry', [[0,1],[1,0]], reps=1)\n",
    "\n",
    "ansatz.draw()"
   ]
  },
  {
   "cell_type": "markdown",
   "metadata": {},
   "source": [
    "## Running the Forged VQE algorithm"
   ]
  },
  {
   "cell_type": "markdown",
   "metadata": {},
   "source": [
    "### Statevector simulator\n",
    "\n",
    "We first create an object that contains all the configuration settings, such as the backend, as well as other execution settings."
   ]
  },
  {
   "cell_type": "code",
   "execution_count": 6,
   "metadata": {
    "ExecuteTime": {
     "end_time": "2021-04-27T13:41:08.991125Z",
     "start_time": "2021-04-27T13:41:08.947147Z"
    },
    "scrolled": true
   },
   "outputs": [],
   "source": [
    "from qiskit import Aer\n",
    "backend = Aer.get_backend('statevector_simulator')\n",
    "\n",
    "config = EntanglementForgedConfig(backend=backend, maxiter = 200, initial_params=[0,0.5*np.pi])"
   ]
  },
  {
   "cell_type": "markdown",
   "metadata": {},
   "source": [
    "We are now ready to run the calculation and print the results."
   ]
  },
  {
   "cell_type": "code",
   "execution_count": 7,
   "metadata": {
    "ExecuteTime": {
     "end_time": "2021-04-27T13:41:18.545432Z",
     "start_time": "2021-04-27T13:41:09.239553Z"
    }
   },
   "outputs": [
    {
     "data": {
      "text/plain": [
       "Ground state energy (Hartree): -1.1372604047327592\n",
       "Schmidt values: [-0.99377311  0.11142266]\n",
       "Optimizer parameters: [  6.2830331  -18.77969966]"
      ]
     },
     "execution_count": 7,
     "metadata": {},
     "output_type": "execute_result"
    }
   ],
   "source": [
    "calc = EntanglementForgedGroundStateSolver(converter, ansatz, bitstrings, config)\n",
    "res = calc.solve(problem)\n",
    "\n",
    "res"
   ]
  },
  {
   "cell_type": "markdown",
   "metadata": {},
   "source": [
    "We can also extract the results at each iteration of the classical optimizer.  "
   ]
  },
  {
   "cell_type": "code",
   "execution_count": 8,
   "metadata": {
    "ExecuteTime": {
     "end_time": "2021-04-27T13:41:19.072518Z",
     "start_time": "2021-04-27T13:41:18.547517Z"
    }
   },
   "outputs": [
    {
     "name": "stdout",
     "output_type": "stream",
     "text": [
      "Energies (from only one paramset in each iteration):\n"
     ]
    },
    {
     "data": {
      "image/png": "[encoded data removed]",
      "text/plain": [
       "<Figure size 432x288 with 1 Axes>"
      ]
     },
     "metadata": {
      "needs_background": "light"
     },
     "output_type": "display_data"
    },
    {
     "name": "stdout",
     "output_type": "stream",
     "text": [
      "Schmidts (from only one paramset in each iteration):\n"
     ]
    },
    {
     "data": {
      "image/png": "[encoded data removed]",
      "text/plain": [
       "<Figure size 432x288 with 1 Axes>"
      ]
     },
     "metadata": {
      "needs_background": "light"
     },
     "output_type": "display_data"
    },
    {
     "name": "stdout",
     "output_type": "stream",
     "text": [
      "Parameters (from only one paramset in each iteration):\n"
     ]
    },
    {
     "data": {
      "image/png": "[encoded data removed]",
      "text/plain": [
       "<Figure size 432x288 with 1 Axes>"
      ]
     },
     "metadata": {
      "needs_background": "light"
     },
     "output_type": "display_data"
    }
   ],
   "source": [
    "print('Energies (from only one paramset in each iteration):')\n",
    "plt.plot([e[0] for e in res.get_energies_history()])\n",
    "plt.plot([e[1] for e in res.get_energies_history()[0:-1]])\n",
    "plt.show()\n",
    "print('Schmidts (from only one paramset in each iteration):')\n",
    "plt.plot([s[0] for s in res.get_schmidts_history()])\n",
    "plt.show()\n",
    "print('Parameters (from only one paramset in each iteration):')\n",
    "plt.plot([p[0] for p in res.get_parameters_history()])\n",
    "plt.plot([p[1] for p in res.get_parameters_history()[0:-1]])\n",
    "plt.show()"
   ]
  }
 ],
 "metadata": {
  "kernelspec": {
   "display_name": "Python 3 (ipykernel)",
   "language": "python",
   "name": "python3"
  },
  "language_info": {
   "codemirror_mode": {
    "name": "ipython",
    "version": 3
   },
   "file_extension": ".py",
   "mimetype": "text/x-python",
   "name": "python",
   "nbconvert_exporter": "python",
   "pygments_lexer": "ipython3",
   "version": "3.8.12"
  }
 },
 "nbformat": 4,
 "nbformat_minor": 4
}
