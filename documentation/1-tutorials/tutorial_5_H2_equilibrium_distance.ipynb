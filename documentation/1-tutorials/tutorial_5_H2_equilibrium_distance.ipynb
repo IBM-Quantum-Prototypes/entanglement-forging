{
 "cells": [
  {
   "cell_type": "markdown",
   "metadata": {},
   "source": [
    "# Example 1: How to find the equilibrium distance for the $H_2$ molecule using Entanglement Forged VQE\n",
    "\n",
    "In this tutorial, we apply Entanglement Forged VQE to compute the energy of a $H_2$ molecule at different bond lengths. By doing so, we can identify the equilibrium distance for the molecule. "
   ]
  },
  {
   "cell_type": "code",
   "execution_count": 1,
   "metadata": {
    "tags": []
   },
   "outputs": [],
   "source": [
    "import warnings\n",
    "warnings.filterwarnings(\"ignore\")\n",
    "\n",
    "from matplotlib import pyplot as plt\n",
    "import numpy as np\n",
    "\n",
    "from qiskit.circuit.library import TwoLocal\n",
    "from qiskit_nature.drivers import UnitsType, Molecule\n",
    "from qiskit_nature.drivers.second_quantization import PySCFDriver\n",
    "from qiskit_nature.problems.second_quantization import ElectronicStructureProblem\n",
    "from qiskit_nature.mappers.second_quantization import JordanWignerMapper\n",
    "from qiskit_nature.converters.second_quantization import QubitConverter\n",
    "from qiskit import Aer\n",
    "\n",
    "import sys\n",
    "sys.path.append('../../')\n",
    "from entanglement_forging import EntanglementForgedVQE\n",
    "from entanglement_forging import EntanglementForgedGroundStateSolver\n",
    "from entanglement_forging import EntanglementForgedConfig"
   ]
  },
  {
   "cell_type": "markdown",
   "metadata": {},
   "source": [
    "## Molecule definition"
   ]
  },
  {
   "cell_type": "code",
   "execution_count": 2,
   "metadata": {},
   "outputs": [],
   "source": [
    "distances = np.arange(0.3, 1.5, 0.1)\n",
    "\n",
    "molecules = []\n",
    "\n",
    "for dist in distances:\n",
    "    molecule = Molecule(geometry=[['H', [0., 0., 0.]],\n",
    "                                  ['H', [0., 0., dist]]],\n",
    "                         charge=0, multiplicity=1)\n",
    "    molecules = molecules + [molecule] "
   ]
  },
  {
   "cell_type": "markdown",
   "metadata": {},
   "source": [
    "## Program code"
   ]
  },
  {
   "cell_type": "code",
   "execution_count": 4,
   "metadata": {},
   "outputs": [
    {
     "name": "stdout",
     "output_type": "stream",
     "text": [
      "Distance = 0.3, Energy = -0.6016841185694219\n",
      "Distance = 0.4, Energy = -0.9138650790654701\n",
      "Distance = 0.5, Energy = -1.0449617026054983\n",
      "Distance = 0.6000000000000001, Energy = -1.1162402492976309\n",
      "Distance = 0.7000000000000002, Energy = -1.1359262629168354\n",
      "Distance = 0.8000000000000003, Energy = -1.1334807983370823\n",
      "Distance = 0.9000000000000001, Energy = -1.1205268961158692\n",
      "Distance = 1.0000000000000002, Energy = -1.1011481693720442\n",
      "Distance = 1.1000000000000003, Energy = -1.0791896757504489\n",
      "Distance = 1.2000000000000004, Energy = -1.0567280461567747\n",
      "Distance = 1.3000000000000005, Energy = -1.0351862662602327\n",
      "Distance = 1.4000000000000004, Energy = -1.0154202988571464\n"
     ]
    }
   ],
   "source": [
    "bitstrings = [[1,0],[0,1]]\n",
    "ansatz = TwoLocal(2, [], 'cry', [[0,1],[1,0]], reps=1)\n",
    "\n",
    "backend = Aer.get_backend('statevector_simulator')\n",
    "converter = QubitConverter(JordanWignerMapper())\n",
    "\n",
    "config = EntanglementForgedConfig(backend=backend, maxiter = 100)\n",
    "calc = EntanglementForgedGroundStateSolver(converter, ansatz, bitstrings, config)\n",
    "\n",
    "energies = []\n",
    "\n",
    "for molecule, distance in zip(molecules, distances):\n",
    "    driver = PySCFDriver.from_molecule(molecule, basis='sto3g')\n",
    "    problem = ElectronicStructureProblem(driver)\n",
    "    problem.second_q_ops()\n",
    "    res = calc.solve(problem)\n",
    "    energies_history = res.get_energies_history()\n",
    "    energy = [None]\n",
    "    if len(energies_history) > 0:\n",
    "        energy = res.get_energies_history()[-1]\n",
    "    energies = energies + energy\n",
    "    print(f\"Distance = {distance}, Energy = {energy[0]}\")"
   ]
  },
  {
   "cell_type": "markdown",
   "metadata": {},
   "source": [
    "## Figure"
   ]
  },
  {
   "cell_type": "code",
   "execution_count": 5,
   "metadata": {},
   "outputs": [
    {
     "data": {
      "image/png": "[encoded data removed]",
      "text/plain": [
       "<Figure size 432x288 with 1 Axes>"
      ]
     },
     "metadata": {
      "needs_background": "light"
     },
     "output_type": "display_data"
    }
   ],
   "source": [
    "plt.plot(distances,energies)\n",
    "plt.xlabel('Atomic distance (Angstrom)')\n",
    "plt.ylabel('Energy')\n",
    "plt.show()"
   ]
  },
  {
   "cell_type": "code",
   "execution_count": 7,
   "metadata": {},
   "outputs": [
    {
     "data": {
      "text/html": [
       "<h3>Version Information</h3><table><tr><th>Qiskit Software</th><th>Version</th></tr><tr><td><code>qiskit-terra</code></td><td>0.19.1</td></tr><tr><td><code>qiskit-aer</code></td><td>0.10.2</td></tr><tr><td><code>qiskit-ignis</code></td><td>0.7.0</td></tr><tr><td><code>qiskit-ibmq-provider</code></td><td>0.18.3</td></tr><tr><td><code>qiskit</code></td><td>0.34.1</td></tr><tr><td><code>qiskit-nature</code></td><td>0.3.0</td></tr><tr><th>System information</th></tr><tr><td>Python version</td><td>3.9.7</td></tr><tr><td>Python compiler</td><td>Clang 10.0.0 </td></tr><tr><td>Python build</td><td>default, Sep 16 2021 08:50:36</td></tr><tr><td>OS</td><td>Darwin</td></tr><tr><td>CPUs</td><td>8</td></tr><tr><td>Memory (Gb)</td><td>32.0</td></tr><tr><td colspan='2'>Thu Feb 10 13:07:08 2022 CST</td></tr></table>"
      ],
      "text/plain": [
       "<IPython.core.display.HTML object>"
      ]
     },
     "metadata": {},
     "output_type": "display_data"
    },
    {
     "data": {
      "text/html": [
       "<div style='width: 100%; background-color:#d5d9e0;padding-left: 10px; padding-bottom: 10px; padding-right: 10px; padding-top: 5px'><h3>This code is a part of Qiskit</h3><p>&copy; Copyright IBM 2017, 2022.</p><p>This code is licensed under the Apache License, Version 2.0. You may<br>obtain a copy of this license in the LICENSE.txt file in the root directory<br> of this source tree or at http://www.apache.org/licenses/LICENSE-2.0.<p>Any modifications or derivative works of this code must retain this<br>copyright notice, and modified files need to carry a notice indicating<br>that they have been altered from the originals.</p></div>"
      ],
      "text/plain": [
       "<IPython.core.display.HTML object>"
      ]
     },
     "metadata": {},
     "output_type": "display_data"
    }
   ],
   "source": [
    "import qiskit.tools.jupyter\n",
    "%qiskit_version_table\n",
    "%qiskit_copyright"
   ]
  }
 ],
 "metadata": {
  "interpreter": {
   "hash": "d765efd1b78542b31eeac584ae1ef565c19e5aef2e0af41fe22dfed061985296"
  },
  "kernelspec": {
   "display_name": "Python 3 (ipykernel)",
   "language": "python",
   "name": "python3"
  },
  "language_info": {
   "codemirror_mode": {
    "name": "ipython",
    "version": 3
   },
   "file_extension": ".py",
   "mimetype": "text/x-python",
   "name": "python",
   "nbconvert_exporter": "python",
   "pygments_lexer": "ipython3",
   "version": "3.9.7"
  }
 },
 "nbformat": 4,
 "nbformat_minor": 4
}
