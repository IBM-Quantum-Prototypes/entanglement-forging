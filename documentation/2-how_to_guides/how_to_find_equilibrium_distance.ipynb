{
 "cells": [
  {
   "cell_type": "markdown",
   "metadata": {},
   "source": [
    "# Example 1: How to find the equilibrium distance for the $H_2$ molecule using Entanglement Forged VQE\n",
    "\n",
    "In this tutorial, we apply Entanglement Forged VQE to compute the energy of a $H_2$ molecule at different bond lengths. By doing so, we can identify the equilibrium distance for the molecule. "
   ]
  },
  {
   "cell_type": "code",
   "execution_count": 1,
   "metadata": {
    "tags": []
   },
   "outputs": [],
   "source": [
    "import warnings\n",
    "warnings.filterwarnings(\"ignore\")\n",
    "\n",
    "from matplotlib import pyplot as plt\n",
    "import numpy as np\n",
    "\n",
    "from qiskit.circuit.library import TwoLocal\n",
    "from qiskit_nature.drivers import PySCFDriver, UnitsType, Molecule\n",
    "from qiskit_nature.problems.second_quantization import ElectronicStructureProblem\n",
    "from qiskit_nature.mappers.second_quantization import JordanWignerMapper\n",
    "from qiskit_nature.converters.second_quantization import QubitConverter\n",
    "from qiskit import Aer\n",
    "\n",
    "import sys\n",
    "sys.path.append('../../')\n",
    "from entanglement_forging import EntanglementForgedVQE\n",
    "from entanglement_forging import EntanglementForgedGroundStateSolver\n",
    "from entanglement_forging import EntanglementForgedConfig"
   ]
  },
  {
   "cell_type": "markdown",
   "metadata": {},
   "source": [
    "## Molecule definition"
   ]
  },
  {
   "cell_type": "code",
   "execution_count": 2,
   "metadata": {},
   "outputs": [],
   "source": [
    "distances = np.arange(0.3, 1.5, 0.1)\n",
    "\n",
    "molecules = []\n",
    "\n",
    "for dist in distances:\n",
    "    molecule = Molecule(geometry=[['H', [0., 0., 0.]],\n",
    "                                  ['H', [0., 0., dist]]],\n",
    "                         charge=0, multiplicity=1)\n",
    "    molecules = molecules + [molecule] "
   ]
  },
  {
   "cell_type": "markdown",
   "metadata": {},
   "source": [
    "## Program code"
   ]
  },
  {
   "cell_type": "code",
   "execution_count": 3,
   "metadata": {},
   "outputs": [
    {
     "name": "stdout",
     "output_type": "stream",
     "text": [
      "Distance = 0.3, Energy = -0.6012458382608918\n",
      "Distance = 0.4, Energy = -0.9139515508543843\n",
      "Distance = 0.5, Energy = -1.0496544469012676\n",
      "Distance = 0.6000000000000001, Energy = -1.1160861605329608\n",
      "Distance = 0.7000000000000002, Energy = -1.1360276022084608\n",
      "Distance = 0.8000000000000003, Energy = -1.1339774763347905\n",
      "Distance = 0.9000000000000001, Energy = -1.117819081246104\n",
      "Distance = 1.0000000000000002, Energy = -1.0947753171897996\n",
      "Distance = 1.1000000000000003, Energy = -1.0791894276140988\n",
      "Distance = 1.2000000000000004, Energy = -1.0567355737504163\n",
      "Distance = 1.3000000000000005, Energy = -1.035186265480155\n",
      "Distance = 1.4000000000000004, Energy = -1.015468249287662\n"
     ]
    }
   ],
   "source": [
    "bitstrings = [[1,0],[0,1]]\n",
    "ansatz = TwoLocal(2, [], 'cry', [[0,1],[1,0]], reps=1)\n",
    "\n",
    "backend = Aer.get_backend('statevector_simulator')\n",
    "converter = QubitConverter(JordanWignerMapper())\n",
    "\n",
    "config = EntanglementForgedConfig(backend=backend, maxiter = 100)\n",
    "calc = EntanglementForgedGroundStateSolver(converter, ansatz, bitstrings, config)\n",
    "\n",
    "energies = []\n",
    "\n",
    "for molecule, distance in zip(molecules, distances):\n",
    "    driver = PySCFDriver(molecule = molecule, basis='sto3g')\n",
    "    problem = ElectronicStructureProblem(driver)\n",
    "    res = calc.solve(problem)\n",
    "    energies_history = res.get_energies_history()\n",
    "    energy = [None]\n",
    "    if len(energies_history) > 0:\n",
    "        energy = res.get_energies_history()[-1]\n",
    "    energies = energies + energy\n",
    "    print(f\"Distance = {distance}, Energy = {energy[0]}\")"
   ]
  },
  {
   "cell_type": "markdown",
   "metadata": {},
   "source": [
    "## Figure"
   ]
  },
  {
   "cell_type": "code",
   "execution_count": 4,
   "metadata": {},
   "outputs": [
    {
     "data": {
      "image/png": "[encoded data removed]",
      "text/plain": [
       "<Figure size 432x288 with 1 Axes>"
      ]
     },
     "metadata": {
      "needs_background": "light"
     },
     "output_type": "display_data"
    }
   ],
   "source": [
    "plt.plot(distances,energies)\n",
    "plt.xlabel('Atomic distance (Angstrom)')\n",
    "plt.ylabel('Energy')\n",
    "plt.show()"
   ]
  },
  {
   "cell_type": "code",
   "execution_count": null,
   "metadata": {},
   "outputs": [],
   "source": []
  }
 ],
 "metadata": {
  "interpreter": {
   "hash": "d765efd1b78542b31eeac584ae1ef565c19e5aef2e0af41fe22dfed061985296"
  },
  "kernelspec": {
   "display_name": "Python 3",
   "language": "python",
   "name": "python3"
  },
  "language_info": {
   "codemirror_mode": {
    "name": "ipython",
    "version": 3
   },
   "file_extension": ".py",
   "mimetype": "text/x-python",
   "name": "python",
   "nbconvert_exporter": "python",
   "pygments_lexer": "ipython3",
   "version": "3.8.10"
  }
 },
 "nbformat": 4,
 "nbformat_minor": 4
}
